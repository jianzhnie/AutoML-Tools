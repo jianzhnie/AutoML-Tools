{
 "cells": [
  {
   "cell_type": "code",
   "execution_count": 1,
   "metadata": {},
   "outputs": [],
   "source": [
    "# imports\n",
    "import h2o\n",
    "from h2o.automl import H2OAutoML, get_leaderboard\n",
    "import mlflow\n",
    "import mlflow.h2o\n",
    "from mlflow.tracking import MlflowClient"
   ]
  },
  {
   "cell_type": "code",
   "execution_count": 2,
   "metadata": {},
   "outputs": [
    {
     "name": "stdout",
     "output_type": "stream",
     "text": [
      "Checking whether there is an H2O instance running at http://localhost:54321 ..... not found.\n",
      "Attempting to start a local H2O server...\n",
      "  Java Version: java version \"1.8.0_144\"; Java(TM) SE Runtime Environment (build 1.8.0_144-b01); Java HotSpot(TM) 64-Bit Server VM (build 25.144-b01, mixed mode)\n",
      "  Starting server from /usr/local/anaconda3/lib/python3.6/site-packages/h2o/backend/bin/h2o.jar\n",
      "  Ice root: /var/folders/s_/30r12bzn3k7dn150jq07b8m80000gn/T/tmpx31rdfev\n",
      "  JVM stdout: /var/folders/s_/30r12bzn3k7dn150jq07b8m80000gn/T/tmpx31rdfev/h2o_pax_data_started_from_python.out\n",
      "  JVM stderr: /var/folders/s_/30r12bzn3k7dn150jq07b8m80000gn/T/tmpx31rdfev/h2o_pax_data_started_from_python.err\n",
      "  Server is running at http://127.0.0.1:54321\n",
      "Connecting to H2O server at http://127.0.0.1:54321 ... successful.\n"
     ]
    },
    {
     "data": {
      "text/html": [
       "<div style=\"overflow:auto\"><table style=\"width:50%\"><tr><td>H2O cluster uptime:</td>\n",
       "<td>07 secs</td></tr>\n",
       "<tr><td>H2O cluster timezone:</td>\n",
       "<td>Europe/London</td></tr>\n",
       "<tr><td>H2O data parsing timezone:</td>\n",
       "<td>UTC</td></tr>\n",
       "<tr><td>H2O cluster version:</td>\n",
       "<td>3.28.0.2</td></tr>\n",
       "<tr><td>H2O cluster version age:</td>\n",
       "<td>14 days, 19 hours and 21 minutes </td></tr>\n",
       "<tr><td>H2O cluster name:</td>\n",
       "<td>H2O_from_python_pax_data_ygnyfi</td></tr>\n",
       "<tr><td>H2O cluster total nodes:</td>\n",
       "<td>1</td></tr>\n",
       "<tr><td>H2O cluster free memory:</td>\n",
       "<td>3.556 Gb</td></tr>\n",
       "<tr><td>H2O cluster total cores:</td>\n",
       "<td>0</td></tr>\n",
       "<tr><td>H2O cluster allowed cores:</td>\n",
       "<td>0</td></tr>\n",
       "<tr><td>H2O cluster status:</td>\n",
       "<td>accepting new members, healthy</td></tr>\n",
       "<tr><td>H2O connection url:</td>\n",
       "<td>http://127.0.0.1:54321</td></tr>\n",
       "<tr><td>H2O connection proxy:</td>\n",
       "<td>{'http': None, 'https': None}</td></tr>\n",
       "<tr><td>H2O internal security:</td>\n",
       "<td>False</td></tr>\n",
       "<tr><td>H2O API Extensions:</td>\n",
       "<td>Amazon S3, XGBoost, Algos, AutoML, Core V3, TargetEncoder, Core V4</td></tr>\n",
       "<tr><td>Python version:</td>\n",
       "<td>3.6.8 final</td></tr></table></div>"
      ],
      "text/plain": [
       "--------------------------  ------------------------------------------------------------------\n",
       "H2O cluster uptime:         07 secs\n",
       "H2O cluster timezone:       Europe/London\n",
       "H2O data parsing timezone:  UTC\n",
       "H2O cluster version:        3.28.0.2\n",
       "H2O cluster version age:    14 days, 19 hours and 21 minutes\n",
       "H2O cluster name:           H2O_from_python_pax_data_ygnyfi\n",
       "H2O cluster total nodes:    1\n",
       "H2O cluster free memory:    3.556 Gb\n",
       "H2O cluster total cores:    0\n",
       "H2O cluster allowed cores:  0\n",
       "H2O cluster status:         accepting new members, healthy\n",
       "H2O connection url:         http://127.0.0.1:54321\n",
       "H2O connection proxy:       {'http': None, 'https': None}\n",
       "H2O internal security:      False\n",
       "H2O API Extensions:         Amazon S3, XGBoost, Algos, AutoML, Core V3, TargetEncoder, Core V4\n",
       "Python version:             3.6.8 final\n",
       "--------------------------  ------------------------------------------------------------------"
      ]
     },
     "metadata": {},
     "output_type": "display_data"
    }
   ],
   "source": [
    "# start the h2o server\n",
    "h2o.init()"
   ]
  },
  {
   "cell_type": "code",
   "execution_count": 3,
   "metadata": {},
   "outputs": [],
   "source": [
    "# variables\n",
    "x_cols = ['C1', 'C2', 'C3', 'C4']\n",
    "y_cols = 'C5'\n",
    "\n",
    "experiment_name = 'automl_mlflow'"
   ]
  },
  {
   "cell_type": "code",
   "execution_count": 4,
   "metadata": {},
   "outputs": [],
   "source": [
    "client = MlflowClient()\n",
    "\n",
    "try:\n",
    "    experiment = mlflow.create_experiment(experiment_name)\n",
    "except:\n",
    "    experiment = client.get_experiment_by_name(experiment_name)\n",
    "mlflow.set_experiment(experiment_name)"
   ]
  },
  {
   "cell_type": "code",
   "execution_count": 5,
   "metadata": {},
   "outputs": [
    {
     "name": "stdout",
     "output_type": "stream",
     "text": [
      "Parse progress: |█████████████████████████████████████████████████████████| 100%\n"
     ]
    }
   ],
   "source": [
    "train, valid = h2o.import_file('iris.csv').split_frame(ratios=[0.7])"
   ]
  },
  {
   "cell_type": "code",
   "execution_count": 6,
   "metadata": {},
   "outputs": [
    {
     "name": "stdout",
     "output_type": "stream",
     "text": [
      "AutoML progress: |\n",
      "14:23:49.708: User specified a validation frame with cross-validation still enabled. Please note that the models will still be validated using cross-validation only, the validation frame will be used to provide purely informative validation metrics on the trained models.\n",
      "\n",
      "██████████\n",
      "14:24:00.811: Skipping training of model GBM_5_AutoML_20200204_142349 due to exception: water.exceptions.H2OModelBuilderIllegalArgumentException: Illegal argument(s) for GBM model: GBM_5_AutoML_20200204_142349.  Details: ERRR on field: _min_rows: The dataset size is too small to split for min_rows=100.0: must have at least 200.0 (weighted) rows, but have only 108.0.\n",
      "\n",
      "\n",
      "██████████████████████████████████████████████| 100%\n"
     ]
    },
    {
     "data": {
      "text/html": [
       "<table>\n",
       "<thead>\n",
       "<tr><th>model_id                                           </th><th style=\"text-align: right;\">  mean_per_class_error</th><th style=\"text-align: right;\">  logloss</th><th style=\"text-align: right;\">    rmse</th><th style=\"text-align: right;\">      mse</th><th style=\"text-align: right;\">  training_time_ms</th><th style=\"text-align: right;\">  predict_time_per_row_ms</th></tr>\n",
       "</thead>\n",
       "<tbody>\n",
       "<tr><td>GLM_1_AutoML_20200204_142349                       </td><td style=\"text-align: right;\">             0.03465  </td><td style=\"text-align: right;\">0.0906292</td><td style=\"text-align: right;\">0.166896</td><td style=\"text-align: right;\">0.0278542</td><td style=\"text-align: right;\">               298</td><td style=\"text-align: right;\">                 0.006844</td></tr>\n",
       "<tr><td>XGBoost_3_AutoML_20200204_142349                   </td><td style=\"text-align: right;\">             0.0526681</td><td style=\"text-align: right;\">0.234201 </td><td style=\"text-align: right;\">0.23652 </td><td style=\"text-align: right;\">0.0559418</td><td style=\"text-align: right;\">                96</td><td style=\"text-align: right;\">                 0.008694</td></tr>\n",
       "<tr><td>XGBoost_1_AutoML_20200204_142349                   </td><td style=\"text-align: right;\">             0.0526681</td><td style=\"text-align: right;\">0.25637  </td><td style=\"text-align: right;\">0.247727</td><td style=\"text-align: right;\">0.0613685</td><td style=\"text-align: right;\">               221</td><td style=\"text-align: right;\">                 0.007991</td></tr>\n",
       "<tr><td>GBM_4_AutoML_20200204_142349                       </td><td style=\"text-align: right;\">             0.0526681</td><td style=\"text-align: right;\">0.196108 </td><td style=\"text-align: right;\">0.223568</td><td style=\"text-align: right;\">0.0499824</td><td style=\"text-align: right;\">                54</td><td style=\"text-align: right;\">                 0.014902</td></tr>\n",
       "<tr><td>DRF_1_AutoML_20200204_142349                       </td><td style=\"text-align: right;\">             0.0526681</td><td style=\"text-align: right;\">0.131968 </td><td style=\"text-align: right;\">0.201344</td><td style=\"text-align: right;\">0.0405392</td><td style=\"text-align: right;\">                56</td><td style=\"text-align: right;\">                 0.01741 </td></tr>\n",
       "<tr><td>DeepLearning_1_AutoML_20200204_142349              </td><td style=\"text-align: right;\">             0.0535921</td><td style=\"text-align: right;\">0.251908 </td><td style=\"text-align: right;\">0.261355</td><td style=\"text-align: right;\">0.0683066</td><td style=\"text-align: right;\">              1163</td><td style=\"text-align: right;\">                 0.011231</td></tr>\n",
       "<tr><td>GBM_1_AutoML_20200204_142349                       </td><td style=\"text-align: right;\">             0.0612151</td><td style=\"text-align: right;\">0.203541 </td><td style=\"text-align: right;\">0.224734</td><td style=\"text-align: right;\">0.0505053</td><td style=\"text-align: right;\">               125</td><td style=\"text-align: right;\">                 0.030553</td></tr>\n",
       "<tr><td>GBM_3_AutoML_20200204_142349                       </td><td style=\"text-align: right;\">             0.0616771</td><td style=\"text-align: right;\">0.205754 </td><td style=\"text-align: right;\">0.233191</td><td style=\"text-align: right;\">0.0543783</td><td style=\"text-align: right;\">                59</td><td style=\"text-align: right;\">                 0.022955</td></tr>\n",
       "<tr><td>GBM_2_AutoML_20200204_142349                       </td><td style=\"text-align: right;\">             0.0616771</td><td style=\"text-align: right;\">0.193319 </td><td style=\"text-align: right;\">0.223642</td><td style=\"text-align: right;\">0.0500158</td><td style=\"text-align: right;\">                55</td><td style=\"text-align: right;\">                 0.015614</td></tr>\n",
       "<tr><td>XGBoost_2_AutoML_20200204_142349                   </td><td style=\"text-align: right;\">             0.0868561</td><td style=\"text-align: right;\">0.549568 </td><td style=\"text-align: right;\">0.423578</td><td style=\"text-align: right;\">0.179418 </td><td style=\"text-align: right;\">                94</td><td style=\"text-align: right;\">                 0.010254</td></tr>\n",
       "<tr><td>StackedEnsemble_AllModels_AutoML_20200204_142349   </td><td style=\"text-align: right;\">             0.666667 </td><td style=\"text-align: right;\">1.09522  </td><td style=\"text-align: right;\">0.664971</td><td style=\"text-align: right;\">0.442187 </td><td style=\"text-align: right;\">              1144</td><td style=\"text-align: right;\">                 0.323591</td></tr>\n",
       "<tr><td>StackedEnsemble_BestOfFamily_AutoML_20200204_142349</td><td style=\"text-align: right;\">             0.666667 </td><td style=\"text-align: right;\">1.09522  </td><td style=\"text-align: right;\">0.664971</td><td style=\"text-align: right;\">0.442187 </td><td style=\"text-align: right;\">              1538</td><td style=\"text-align: right;\">                 0.104374</td></tr>\n",
       "</tbody>\n",
       "</table>"
      ]
     },
     "metadata": {},
     "output_type": "display_data"
    },
    {
     "name": "stdout",
     "output_type": "stream",
     "text": [
      "\n"
     ]
    }
   ],
   "source": [
    "with mlflow.start_run():\n",
    "    model = H2OAutoML(max_models=10, max_runtime_secs=300, seed=24, nfolds=6)\n",
    "    model.train(x=x_cols, y=y_cols, training_frame=train, validation_frame=valid)\n",
    "\n",
    "    mlflow.log_metric(\"rmse\", model.leader.rmse())\n",
    "    mlflow.log_metric(\"log_loss\", model.leader.logloss())\n",
    "    mlflow.log_metric(\"mean_per_class_error\", model.leader.mean_per_class_error())\n",
    "\n",
    "    mlflow.h2o.log_model(model.leader, \"model\")\n",
    "    \n",
    "    lb = model.leaderboard\n",
    "    lb = get_leaderboard(model, extra_columns='ALL')\n",
    "    print(lb.head(rows=lb.nrows))"
   ]
  },
  {
   "cell_type": "code",
   "execution_count": 12,
   "metadata": {},
   "outputs": [
    {
     "name": "stdout",
     "output_type": "stream",
     "text": [
      "glm prediction progress: |████████████████████████████████████████████████| 100%\n"
     ]
    }
   ],
   "source": [
    "all_mlflow_runs = client.list_run_infos(experiment.experiment_id)\n",
    "if len(all_mlflow_runs) > 0:\n",
    "    run_info = all_mlflow_runs[-1]\n",
    "    model = mlflow.h2o.load_model(\"mlruns/{exp_id}/{run_id}/artifacts/model/\".format(exp_id=experiment.experiment_id,run_id=run_info.run_uuid))\n",
    "    result = model.predict(valid)\n",
    "else:\n",
    "    raise Exception('Run the training first')"
   ]
  },
  {
   "cell_type": "code",
   "execution_count": null,
   "metadata": {},
   "outputs": [],
   "source": []
  }
 ],
 "metadata": {
  "kernelspec": {
   "display_name": "Python 3",
   "language": "python",
   "name": "python3"
  },
  "language_info": {
   "codemirror_mode": {
    "name": "ipython",
    "version": 3
   },
   "file_extension": ".py",
   "mimetype": "text/x-python",
   "name": "python",
   "nbconvert_exporter": "python",
   "pygments_lexer": "ipython3",
   "version": "3.6.8"
  }
 },
 "nbformat": 4,
 "nbformat_minor": 4
}
